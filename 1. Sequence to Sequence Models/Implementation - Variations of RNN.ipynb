{
 "cells": [
  {
   "cell_type": "code",
   "execution_count": 16,
   "id": "158d39e7",
   "metadata": {},
   "outputs": [],
   "source": [
    "import numpy as np\n",
    "import tensorflow as tf\n",
    "from string import punctuation\n",
    "from collections import Counter\n",
    "from sklearn.metrics import accuracy_score\n",
    "from keras.models import Sequential\n",
    "from keras.layers import Dense, SimpleRNN, Activation, Dropout, Embedding, LSTM, Bidirectional, CuDNNLSTM, CuDNNGRU\n",
    "from keras.wrappers.scikit_learn import KerasClassifier\n",
    "\n",
    "import warnings\n",
    "warnings.filterwarnings(\"ignore\", category=DeprecationWarning) "
   ]
  },
  {
   "cell_type": "code",
   "execution_count": 2,
   "id": "4872bdc0",
   "metadata": {},
   "outputs": [],
   "source": [
    "with open('./reviews.txt', 'r') as f:\n",
    "    reviews = f.read()\n",
    "with open('./labels.txt', 'r') as f:\n",
    "    labels = f.read()"
   ]
  },
  {
   "cell_type": "code",
   "execution_count": 3,
   "id": "319caa15",
   "metadata": {},
   "outputs": [],
   "source": [
    "# Preprocessing\n",
    "all_text = ''.join([c for c in reviews if c not in punctuation])\n",
    "reviews = all_text.split('\\n')\n",
    "all_text = ' '.join(reviews)\n",
    "words = all_text.split()"
   ]
  },
  {
   "cell_type": "code",
   "execution_count": 4,
   "id": "79c9a551",
   "metadata": {},
   "outputs": [],
   "source": [
    "# Encoding Words\n",
    "counts = Counter(words)\n",
    "vocab = sorted(counts, key=counts.get, reverse=True)\n",
    "\n",
    "# Create your dictionary that maps vocab words to integers here\n",
    "vocab_to_int = {word: i for i, word in enumerate(vocab, 1)} # start from 1\n",
    "\n",
    "# Convert the reviews to integers, same shape as reviews list, but with integers\n",
    "review_ints = []\n",
    "for review in reviews:\n",
    "    review_ints.append([vocab_to_int[word] for word in review.split()])"
   ]
  },
  {
   "cell_type": "code",
   "execution_count": 5,
   "id": "63859697",
   "metadata": {},
   "outputs": [],
   "source": [
    "# Encoding labels\n",
    "labels = labels.split('\\n')\n",
    "\n",
    "# Convert labels to 1s and 0s for 'positive' and 'negative'\n",
    "labels = [1 if label == 'positive' else 0 for label in labels]"
   ]
  },
  {
   "cell_type": "code",
   "execution_count": 6,
   "id": "ad28e97e",
   "metadata": {},
   "outputs": [
    {
     "name": "stdout",
     "output_type": "stream",
     "text": [
      "Zero-length reviews: 1\n",
      "Maximum review length: 2514\n"
     ]
    }
   ],
   "source": [
    "review_lens = Counter([len(x) for x in review_ints])\n",
    "print(\"Zero-length reviews: {}\".format(review_lens[0]))\n",
    "print(\"Maximum review length: {}\".format(max(review_lens)))"
   ]
  },
  {
   "cell_type": "code",
   "execution_count": 7,
   "id": "fdead6eb",
   "metadata": {},
   "outputs": [],
   "source": [
    "# Removing zero length review\n",
    "zero_length_review_index = ([i for i, review in enumerate(review_ints) if (len(review) == 0)])[0]\n",
    "del review_ints[zero_length_review_index]\n",
    "del labels[zero_length_review_index]\n",
    "labels = np.array(labels)"
   ]
  },
  {
   "cell_type": "code",
   "execution_count": 8,
   "id": "1b082f4c",
   "metadata": {},
   "outputs": [],
   "source": [
    "# For reviews shorter than 200 words, left pad with 0s\n",
    "# For reviews longer than 200, use on the first 200 words as the feature vector\n",
    "\n",
    "seq_len = 200\n",
    "features = []\n",
    "for review in review_ints:\n",
    "    review_len = len(review)\n",
    "    len_diff = seq_len - review_len\n",
    "    if len_diff <= 0:\n",
    "        features.append(review[:seq_len])\n",
    "    else:\n",
    "        padding = [0] * len_diff\n",
    "        padded_feature = padding + review\n",
    "        features.append(padded_feature)\n",
    "features = np.asarray(features)"
   ]
  },
  {
   "cell_type": "code",
   "execution_count": 9,
   "id": "150a88a9",
   "metadata": {},
   "outputs": [
    {
     "name": "stdout",
     "output_type": "stream",
     "text": [
      "(25000, 200)\n",
      "(25000,)\n"
     ]
    }
   ],
   "source": [
    "print(features.shape)\n",
    "print(labels.shape)"
   ]
  },
  {
   "cell_type": "code",
   "execution_count": 10,
   "id": "7b415e34",
   "metadata": {},
   "outputs": [
    {
     "name": "stdout",
     "output_type": "stream",
     "text": [
      "\t\t\tFeature Shapes:\n",
      "Train set: \t\t(20000, 200) \n",
      "Validation set: \t(2500, 200) \n",
      "Test set: \t\t(2500, 200)\n"
     ]
    }
   ],
   "source": [
    "# Split data into train, validation and test\n",
    "split_frac = 0.8\n",
    "split_idx = int(len(features) * split_frac)\n",
    "\n",
    "train_x, val_x = features[:split_idx], features[split_idx:]\n",
    "train_y, val_y = labels[:split_idx], labels[split_idx:]\n",
    "\n",
    "test_idx = int(len(val_x) * 0.5)\n",
    "val_x, test_x = val_x[:test_idx], val_x[test_idx:]\n",
    "val_y, test_y = val_y[:test_idx], val_y[test_idx:]\n",
    "\n",
    "print(\"\\t\\t\\tFeature Shapes:\")\n",
    "print(\"Train set: \\t\\t{}\".format(train_x.shape), \n",
    "      \"\\nValidation set: \\t{}\".format(val_x.shape),\n",
    "      \"\\nTest set: \\t\\t{}\".format(test_x.shape))"
   ]
  },
  {
   "cell_type": "code",
   "execution_count": 11,
   "id": "d6529525",
   "metadata": {},
   "outputs": [],
   "source": [
    "# Disabing GPU - works slow for RNN. Because GPU requires more computation\n",
    "# tf.config.experimental.set_visible_devices([], 'GPU')"
   ]
  },
  {
   "cell_type": "markdown",
   "id": "d66f9060",
   "metadata": {},
   "source": [
    "## Vanilla RNN"
   ]
  },
  {
   "cell_type": "code",
   "execution_count": 12,
   "id": "48e79cde",
   "metadata": {},
   "outputs": [],
   "source": [
    "def vanilla_rnn():\n",
    "    model = Sequential()\n",
    "    model.add(SimpleRNN(50, input_shape = (200,1), return_sequences = False))\n",
    "    model.add(Dense(46))\n",
    "    model.add(Activation('sigmoid'))\n",
    "    \n",
    "    adam = tf.optimizers.Adam(lr = 0.001)\n",
    "    model.compile(loss = 'sparse_categorical_crossentropy', optimizer = adam, metrics = ['accuracy'])\n",
    "    \n",
    "    return model\n",
    "\n",
    "model = KerasClassifier(build_fn = vanilla_rnn, epochs = 10, batch_size = 50, verbose = 1)\n",
    "model.fit(train_x, train_y)\n",
    "y_pred = model.predict(test_x)\n",
    "print('Accuracy : ', accuracy_score(y_pred, test_y))"
   ]
  },
  {
   "cell_type": "markdown",
   "id": "67290b78",
   "metadata": {},
   "source": [
    "## Stacked Vanilla RNN"
   ]
  },
  {
   "cell_type": "code",
   "execution_count": 13,
   "id": "8761366b",
   "metadata": {},
   "outputs": [],
   "source": [
    "def stacked_vanilla_rnn():\n",
    "    model = Sequential()\n",
    "    # return_sequences parameter has to be set True to stack\n",
    "    model.add(SimpleRNN(50, input_shape = (200,1), return_sequences = True))   \n",
    "    model.add(SimpleRNN(50, return_sequences = False))\n",
    "    model.add(Dense(46))\n",
    "    model.add(Activation('softmax'))\n",
    "    \n",
    "    adam = tf.optimizers.Adam(lr = 0.001)\n",
    "    model.compile(loss = 'sparse_categorical_crossentropy', optimizer = adam, metrics = ['accuracy'])\n",
    "    \n",
    "    return model\n",
    "\n",
    "model = KerasClassifier(build_fn = stacked_vanilla_rnn, epochs = 10, batch_size = 50, verbose = 1)\n",
    "model.fit(train_x, train_y)\n",
    "y_pred = model.predict(test_x)\n",
    "print('Accuracy : ', accuracy_score(y_pred, test_y))"
   ]
  },
  {
   "cell_type": "markdown",
   "id": "56f638bf",
   "metadata": {},
   "source": [
    "## LSTM"
   ]
  },
  {
   "cell_type": "code",
   "execution_count": 14,
   "id": "ee57afd3",
   "metadata": {},
   "outputs": [
    {
     "name": "stdout",
     "output_type": "stream",
     "text": [
      "Metal device set to: Apple M1\n"
     ]
    },
    {
     "name": "stderr",
     "output_type": "stream",
     "text": [
      "2022-03-18 15:45:13.186765: I tensorflow/core/common_runtime/pluggable_device/pluggable_device_factory.cc:305] Could not identify NUMA node of platform GPU ID 0, defaulting to 0. Your kernel may not have been built with NUMA support.\n",
      "2022-03-18 15:45:13.186851: I tensorflow/core/common_runtime/pluggable_device/pluggable_device_factory.cc:271] Created TensorFlow device (/job:localhost/replica:0/task:0/device:GPU:0 with 0 MB memory) -> physical PluggableDevice (device: 0, name: METAL, pci bus id: <undefined>)\n",
      "/Users/harshavardhankoneru/miniforge3/envs/tensorflow/lib/python3.9/site-packages/keras/optimizer_v2/adam.py:105: UserWarning: The `lr` argument is deprecated, use `learning_rate` instead.\n",
      "  super(Adam, self).__init__(name, **kwargs)\n"
     ]
    },
    {
     "name": "stdout",
     "output_type": "stream",
     "text": [
      "Epoch 1/10\n"
     ]
    },
    {
     "name": "stderr",
     "output_type": "stream",
     "text": [
      "2022-03-18 15:45:13.398367: W tensorflow/core/platform/profile_utils/cpu_utils.cc:128] Failed to get CPU frequency: 0 Hz\n",
      "2022-03-18 15:45:14.020522: I tensorflow/core/grappler/optimizers/custom_graph_optimizer_registry.cc:113] Plugin optimizer for device_type GPU is enabled.\n",
      "2022-03-18 15:45:14.161568: I tensorflow/core/grappler/optimizers/custom_graph_optimizer_registry.cc:113] Plugin optimizer for device_type GPU is enabled.\n",
      "2022-03-18 15:45:14.497372: I tensorflow/core/grappler/optimizers/custom_graph_optimizer_registry.cc:113] Plugin optimizer for device_type GPU is enabled.\n"
     ]
    },
    {
     "name": "stdout",
     "output_type": "stream",
     "text": [
      "400/400 [==============================] - 45s 108ms/step - loss: 0.4580 - accuracy: 0.7814\n",
      "Epoch 2/10\n",
      "400/400 [==============================] - 43s 107ms/step - loss: 0.2276 - accuracy: 0.9179\n",
      "Epoch 3/10\n",
      "400/400 [==============================] - 43s 107ms/step - loss: 0.1283 - accuracy: 0.9563\n",
      "Epoch 4/10\n",
      "400/400 [==============================] - 43s 108ms/step - loss: 0.0795 - accuracy: 0.9741\n",
      "Epoch 5/10\n",
      "400/400 [==============================] - 43s 107ms/step - loss: 0.0553 - accuracy: 0.9821\n",
      "Epoch 6/10\n",
      "400/400 [==============================] - 43s 107ms/step - loss: 0.0490 - accuracy: 0.9837\n",
      "Epoch 7/10\n",
      "400/400 [==============================] - 43s 107ms/step - loss: 0.0291 - accuracy: 0.9907\n",
      "Epoch 8/10\n",
      "400/400 [==============================] - 43s 107ms/step - loss: 0.0303 - accuracy: 0.9910\n",
      "Epoch 9/10\n",
      "400/400 [==============================] - 43s 107ms/step - loss: 0.0224 - accuracy: 0.9932\n",
      "Epoch 10/10\n",
      "400/400 [==============================] - 43s 108ms/step - loss: 0.0210 - accuracy: 0.9928\n"
     ]
    },
    {
     "name": "stderr",
     "output_type": "stream",
     "text": [
      "2022-03-18 15:52:24.782493: I tensorflow/core/grappler/optimizers/custom_graph_optimizer_registry.cc:113] Plugin optimizer for device_type GPU is enabled.\n",
      "2022-03-18 15:52:24.820446: I tensorflow/core/grappler/optimizers/custom_graph_optimizer_registry.cc:113] Plugin optimizer for device_type GPU is enabled.\n"
     ]
    },
    {
     "name": "stdout",
     "output_type": "stream",
     "text": [
      "Accuracy :  0.7904\n"
     ]
    }
   ],
   "source": [
    "def lstm():\n",
    "    model = Sequential()\n",
    "    model.add(Embedding(200000, 128))\n",
    "    model.add(Dropout(0.3))\n",
    "    model.add(LSTM(128))\n",
    "    model.add(Dropout(0.3))\n",
    "    model.add(Dense(1, activation='sigmoid'))\n",
    "\n",
    "    adam = tf.optimizers.Adam(lr = 0.001)\n",
    "    model.compile(loss='binary_crossentropy', optimizer=adam, metrics=['accuracy'])\n",
    "\n",
    "    return model\n",
    "\n",
    "model = KerasClassifier(build_fn = lstm, epochs = 10, batch_size = 50, verbose = 1)\n",
    "model.fit(train_x, train_y)\n",
    "y_pred = model.predict(test_x)\n",
    "print('Accuracy : ', accuracy_score(y_pred, test_y))"
   ]
  },
  {
   "cell_type": "markdown",
   "id": "792cb031",
   "metadata": {},
   "source": [
    "## CuDNN LSTM"
   ]
  },
  {
   "cell_type": "code",
   "execution_count": 15,
   "id": "28098e4c",
   "metadata": {},
   "outputs": [
    {
     "name": "stdout",
     "output_type": "stream",
     "text": [
      "Epoch 1/10\n"
     ]
    },
    {
     "name": "stderr",
     "output_type": "stream",
     "text": [
      "/Users/harshavardhankoneru/miniforge3/envs/tensorflow/lib/python3.9/site-packages/keras/optimizer_v2/adam.py:105: UserWarning: The `lr` argument is deprecated, use `learning_rate` instead.\n",
      "  super(Adam, self).__init__(name, **kwargs)\n",
      "2022-03-18 15:52:27.543435: I tensorflow/core/grappler/optimizers/custom_graph_optimizer_registry.cc:113] Plugin optimizer for device_type GPU is enabled.\n"
     ]
    },
    {
     "name": "stdout",
     "output_type": "stream",
     "text": [
      "400/400 [==============================] - 45s 108ms/step - loss: 0.4929 - accuracy: 0.7564\n",
      "Epoch 2/10\n",
      "400/400 [==============================] - 43s 108ms/step - loss: 0.2448 - accuracy: 0.9100\n",
      "Epoch 3/10\n",
      "400/400 [==============================] - 43s 107ms/step - loss: 0.1376 - accuracy: 0.9529\n",
      "Epoch 4/10\n",
      "400/400 [==============================] - 43s 107ms/step - loss: 0.0785 - accuracy: 0.9740\n",
      "Epoch 5/10\n",
      "400/400 [==============================] - 43s 108ms/step - loss: 0.0520 - accuracy: 0.9830\n",
      "Epoch 6/10\n",
      "400/400 [==============================] - 43s 107ms/step - loss: 0.0328 - accuracy: 0.9899\n",
      "Epoch 7/10\n",
      "400/400 [==============================] - 43s 108ms/step - loss: 0.0312 - accuracy: 0.9904\n",
      "Epoch 8/10\n",
      "400/400 [==============================] - 43s 107ms/step - loss: 0.0208 - accuracy: 0.9939\n",
      "Epoch 9/10\n",
      "400/400 [==============================] - 43s 107ms/step - loss: 0.0210 - accuracy: 0.9932\n",
      "Epoch 10/10\n",
      "400/400 [==============================] - 43s 108ms/step - loss: 0.0162 - accuracy: 0.9947\n"
     ]
    },
    {
     "name": "stderr",
     "output_type": "stream",
     "text": [
      "2022-03-18 15:59:39.405851: I tensorflow/core/grappler/optimizers/custom_graph_optimizer_registry.cc:113] Plugin optimizer for device_type GPU is enabled.\n"
     ]
    },
    {
     "name": "stdout",
     "output_type": "stream",
     "text": [
      "Accuracy :  0.7712\n"
     ]
    }
   ],
   "source": [
    "def CuDNN_LSTM():\n",
    "    model = Sequential()\n",
    "    model.add(Embedding(200000, 128))\n",
    "    model.add(Dropout(0.3))\n",
    "    model.add(CuDNNLSTM(128))\n",
    "    model.add(Dropout(0.3))\n",
    "    model.add(Dense(1, activation='sigmoid'))\n",
    "\n",
    "    adam = tf.optimizers.Adam(lr = 0.001)\n",
    "    model.compile(loss='binary_crossentropy', optimizer=adam, metrics=['accuracy'])\n",
    "\n",
    "    return model\n",
    "\n",
    "model = KerasClassifier(build_fn = CuDNN_LSTM, epochs = 10, batch_size = 50, verbose = 1)\n",
    "model.fit(train_x, train_y)\n",
    "y_pred = model.predict(test_x)\n",
    "print('Accuracy : ', accuracy_score(y_pred, test_y))"
   ]
  },
  {
   "cell_type": "markdown",
   "id": "36af0ca8",
   "metadata": {},
   "source": [
    "## CuDNN GRU"
   ]
  },
  {
   "cell_type": "code",
   "execution_count": 17,
   "id": "60e0b1c2",
   "metadata": {},
   "outputs": [
    {
     "name": "stdout",
     "output_type": "stream",
     "text": [
      "Epoch 1/10\n"
     ]
    },
    {
     "name": "stderr",
     "output_type": "stream",
     "text": [
      "/Users/harshavardhankoneru/miniforge3/envs/tensorflow/lib/python3.9/site-packages/keras/optimizer_v2/adam.py:105: UserWarning: The `lr` argument is deprecated, use `learning_rate` instead.\n",
      "  super(Adam, self).__init__(name, **kwargs)\n",
      "2022-03-18 16:04:03.543756: I tensorflow/core/grappler/optimizers/custom_graph_optimizer_registry.cc:113] Plugin optimizer for device_type GPU is enabled.\n"
     ]
    },
    {
     "name": "stdout",
     "output_type": "stream",
     "text": [
      "400/400 [==============================] - 45s 104ms/step - loss: 0.6875 - accuracy: 0.5422\n",
      "Epoch 2/10\n",
      "400/400 [==============================] - 42s 104ms/step - loss: 0.5767 - accuracy: 0.7083\n",
      "Epoch 3/10\n",
      "400/400 [==============================] - 42s 105ms/step - loss: 0.3865 - accuracy: 0.8410\n",
      "Epoch 4/10\n",
      "400/400 [==============================] - 42s 104ms/step - loss: 0.2406 - accuracy: 0.9105\n",
      "Epoch 5/10\n",
      "400/400 [==============================] - 42s 105ms/step - loss: 0.1506 - accuracy: 0.9469\n",
      "Epoch 6/10\n",
      "400/400 [==============================] - 82s 205ms/step - loss: 0.1215 - accuracy: 0.9571\n",
      "Epoch 7/10\n",
      "400/400 [==============================] - 42s 105ms/step - loss: 0.1015 - accuracy: 0.9637\n",
      "Epoch 8/10\n",
      "400/400 [==============================] - 42s 106ms/step - loss: 0.0948 - accuracy: 0.9662\n",
      "Epoch 9/10\n",
      "400/400 [==============================] - 43s 106ms/step - loss: 0.0937 - accuracy: 0.9671\n",
      "Epoch 10/10\n",
      "400/400 [==============================] - 43s 107ms/step - loss: 0.0959 - accuracy: 0.9643\n"
     ]
    },
    {
     "name": "stderr",
     "output_type": "stream",
     "text": [
      "2022-03-18 16:11:46.545658: I tensorflow/core/grappler/optimizers/custom_graph_optimizer_registry.cc:113] Plugin optimizer for device_type GPU is enabled.\n"
     ]
    },
    {
     "name": "stdout",
     "output_type": "stream",
     "text": [
      "Accuracy :  0.7844\n"
     ]
    }
   ],
   "source": [
    "def CuDNN_GRU():\n",
    "    model = Sequential()\n",
    "    model.add(Embedding(200000, 128))\n",
    "    model.add(Dropout(0.3))\n",
    "    model.add(CuDNNGRU(128))\n",
    "    model.add(Dropout(0.3))\n",
    "    model.add(Dense(1, activation='sigmoid'))\n",
    "\n",
    "    adam = tf.optimizers.Adam(lr = 0.001)\n",
    "    model.compile(loss='binary_crossentropy', optimizer=adam, metrics=['accuracy'])\n",
    "\n",
    "    return model\n",
    "\n",
    "model = KerasClassifier(build_fn = CuDNN_GRU, epochs = 10, batch_size = 50, verbose = 1)\n",
    "model.fit(train_x, train_y)\n",
    "y_pred = model.predict(test_x)\n",
    "print('Accuracy : ', accuracy_score(y_pred, test_y))"
   ]
  },
  {
   "cell_type": "markdown",
   "id": "d269b88c",
   "metadata": {},
   "source": [
    "## Bidirectional CuDNN LSTM"
   ]
  },
  {
   "cell_type": "code",
   "execution_count": 18,
   "id": "23b4466b",
   "metadata": {},
   "outputs": [
    {
     "name": "stdout",
     "output_type": "stream",
     "text": [
      "Epoch 1/10\n"
     ]
    },
    {
     "name": "stderr",
     "output_type": "stream",
     "text": [
      "/Users/harshavardhankoneru/miniforge3/envs/tensorflow/lib/python3.9/site-packages/keras/optimizer_v2/adam.py:105: UserWarning: The `lr` argument is deprecated, use `learning_rate` instead.\n",
      "  super(Adam, self).__init__(name, **kwargs)\n",
      "2022-03-18 16:15:50.029647: I tensorflow/core/grappler/optimizers/custom_graph_optimizer_registry.cc:113] Plugin optimizer for device_type GPU is enabled.\n"
     ]
    },
    {
     "name": "stdout",
     "output_type": "stream",
     "text": [
      "400/400 [==============================] - 62s 149ms/step - loss: 0.5070 - accuracy: 0.7447\n",
      "Epoch 2/10\n",
      "400/400 [==============================] - 59s 148ms/step - loss: 0.2647 - accuracy: 0.9018\n",
      "Epoch 3/10\n",
      "400/400 [==============================] - 60s 149ms/step - loss: 0.1464 - accuracy: 0.9505\n",
      "Epoch 4/10\n",
      "400/400 [==============================] - 60s 150ms/step - loss: 0.0807 - accuracy: 0.9734\n",
      "Epoch 5/10\n",
      "400/400 [==============================] - 60s 149ms/step - loss: 0.0566 - accuracy: 0.9816\n",
      "Epoch 6/10\n",
      "400/400 [==============================] - 59s 149ms/step - loss: 0.0410 - accuracy: 0.9863\n",
      "Epoch 7/10\n",
      "400/400 [==============================] - 60s 150ms/step - loss: 0.0265 - accuracy: 0.9908\n",
      "Epoch 8/10\n",
      "400/400 [==============================] - 60s 150ms/step - loss: 0.0254 - accuracy: 0.9921\n",
      "Epoch 9/10\n",
      "400/400 [==============================] - 60s 149ms/step - loss: 0.0122 - accuracy: 0.9962\n",
      "Epoch 10/10\n",
      "400/400 [==============================] - 60s 149ms/step - loss: 0.0655 - accuracy: 0.9771\n"
     ]
    },
    {
     "name": "stderr",
     "output_type": "stream",
     "text": [
      "2022-03-18 16:25:48.962204: I tensorflow/core/grappler/optimizers/custom_graph_optimizer_registry.cc:113] Plugin optimizer for device_type GPU is enabled.\n"
     ]
    },
    {
     "name": "stdout",
     "output_type": "stream",
     "text": [
      "Accuracy :  0.764\n"
     ]
    }
   ],
   "source": [
    "def Bidirectional_CuDNN_LSTM():\n",
    "    model = Sequential()\n",
    "    model.add(Embedding(200000, 128))\n",
    "    model.add(Dropout(0.3))\n",
    "    model.add(Bidirectional(CuDNNLSTM(128)))\n",
    "    model.add(Dropout(0.3))\n",
    "    model.add(Dense(1, activation='sigmoid'))\n",
    "\n",
    "    adam = tf.optimizers.Adam(lr = 0.001)\n",
    "    model.compile(loss='binary_crossentropy', optimizer=adam, metrics=['accuracy'])\n",
    "\n",
    "    return model\n",
    "\n",
    "model = KerasClassifier(build_fn = Bidirectional_CuDNN_LSTM, epochs = 10, batch_size = 50, verbose = 1)\n",
    "model.fit(train_x, train_y)\n",
    "y_pred = model.predict(test_x)\n",
    "print('Accuracy : ', accuracy_score(y_pred, test_y))"
   ]
  },
  {
   "cell_type": "code",
   "execution_count": null,
   "id": "9bb1f1cf",
   "metadata": {},
   "outputs": [],
   "source": []
  },
  {
   "cell_type": "code",
   "execution_count": null,
   "id": "c3d21ee4",
   "metadata": {},
   "outputs": [],
   "source": []
  },
  {
   "cell_type": "code",
   "execution_count": null,
   "id": "39314ff1",
   "metadata": {},
   "outputs": [],
   "source": []
  },
  {
   "cell_type": "code",
   "execution_count": null,
   "id": "86aa13aa",
   "metadata": {},
   "outputs": [],
   "source": []
  },
  {
   "cell_type": "code",
   "execution_count": null,
   "id": "e30b15d0",
   "metadata": {},
   "outputs": [],
   "source": []
  }
 ],
 "metadata": {
  "kernelspec": {
   "display_name": "Python 3.9 (tensorflow)",
   "language": "python",
   "name": "tensorflow"
  },
  "language_info": {
   "codemirror_mode": {
    "name": "ipython",
    "version": 3
   },
   "file_extension": ".py",
   "mimetype": "text/x-python",
   "name": "python",
   "nbconvert_exporter": "python",
   "pygments_lexer": "ipython3",
   "version": "3.9.7"
  }
 },
 "nbformat": 4,
 "nbformat_minor": 5
}
